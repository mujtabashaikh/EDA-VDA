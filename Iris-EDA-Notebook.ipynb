{
 "cells": [
  {
   "cell_type": "code",
   "execution_count": 1,
   "metadata": {},
   "outputs": [
    {
     "data": {
      "text/html": [
       "<div>\n",
       "<style scoped>\n",
       "    .dataframe tbody tr th:only-of-type {\n",
       "        vertical-align: middle;\n",
       "    }\n",
       "\n",
       "    .dataframe tbody tr th {\n",
       "        vertical-align: top;\n",
       "    }\n",
       "\n",
       "    .dataframe thead th {\n",
       "        text-align: right;\n",
       "    }\n",
       "</style>\n",
       "<table border=\"1\" class=\"dataframe\">\n",
       "  <thead>\n",
       "    <tr style=\"text-align: right;\">\n",
       "      <th></th>\n",
       "      <th>Id</th>\n",
       "      <th>SepalLength</th>\n",
       "      <th>SepalWidth</th>\n",
       "      <th>PetalLength</th>\n",
       "      <th>PetalWidth</th>\n",
       "      <th>species</th>\n",
       "    </tr>\n",
       "  </thead>\n",
       "  <tbody>\n",
       "    <tr>\n",
       "      <th>0</th>\n",
       "      <td>1</td>\n",
       "      <td>5.1</td>\n",
       "      <td>3.5</td>\n",
       "      <td>1.4</td>\n",
       "      <td>0.2</td>\n",
       "      <td>Iris-setosa</td>\n",
       "    </tr>\n",
       "    <tr>\n",
       "      <th>1</th>\n",
       "      <td>2</td>\n",
       "      <td>4.9</td>\n",
       "      <td>3.0</td>\n",
       "      <td>1.4</td>\n",
       "      <td>0.2</td>\n",
       "      <td>Iris-setosa</td>\n",
       "    </tr>\n",
       "    <tr>\n",
       "      <th>2</th>\n",
       "      <td>3</td>\n",
       "      <td>4.7</td>\n",
       "      <td>3.2</td>\n",
       "      <td>1.3</td>\n",
       "      <td>0.2</td>\n",
       "      <td>Iris-setosa</td>\n",
       "    </tr>\n",
       "    <tr>\n",
       "      <th>3</th>\n",
       "      <td>4</td>\n",
       "      <td>4.6</td>\n",
       "      <td>3.1</td>\n",
       "      <td>1.5</td>\n",
       "      <td>0.2</td>\n",
       "      <td>Iris-setosa</td>\n",
       "    </tr>\n",
       "    <tr>\n",
       "      <th>4</th>\n",
       "      <td>5</td>\n",
       "      <td>5.0</td>\n",
       "      <td>3.6</td>\n",
       "      <td>1.4</td>\n",
       "      <td>0.2</td>\n",
       "      <td>Iris-setosa</td>\n",
       "    </tr>\n",
       "  </tbody>\n",
       "</table>\n",
       "</div>"
      ],
      "text/plain": [
       "   Id  SepalLength  SepalWidth  PetalLength  PetalWidth      species\n",
       "0   1          5.1         3.5          1.4         0.2  Iris-setosa\n",
       "1   2          4.9         3.0          1.4         0.2  Iris-setosa\n",
       "2   3          4.7         3.2          1.3         0.2  Iris-setosa\n",
       "3   4          4.6         3.1          1.5         0.2  Iris-setosa\n",
       "4   5          5.0         3.6          1.4         0.2  Iris-setosa"
      ]
     },
     "execution_count": 1,
     "metadata": {},
     "output_type": "execute_result"
    }
   ],
   "source": [
    "import pandas as pd\n",
    "import numpy as np\n",
    "import seaborn as sns\n",
    "from matplotlib import pyplot as plt\n",
    "from scipy.stats import ttest_1samp\n",
    "\n",
    "df = pd.read_excel(\"./Data/iris.xlsx\")\n",
    "df.head()"
   ]
  },
  {
   "cell_type": "code",
   "execution_count": 2,
   "metadata": {},
   "outputs": [
    {
     "name": "stdout",
     "output_type": "stream",
     "text": [
      "(150, 6)\n"
     ]
    }
   ],
   "source": [
    "### ***********************************#\n",
    "#1. What is structure of the dataset.\n",
    "#**********************************#\n",
    "print(df.shape)"
   ]
  },
  {
   "cell_type": "code",
   "execution_count": 3,
   "metadata": {},
   "outputs": [
    {
     "name": "stdout",
     "output_type": "stream",
     "text": [
      "Index(['Id', 'SepalLength', 'SepalWidth', 'PetalLength', 'PetalWidth',\n",
      "       'species'],\n",
      "      dtype='object')\n"
     ]
    }
   ],
   "source": [
    "#as we can see it has 150 rows and 6 column which are : Id, SepalLength, SeplalWdith, PetalLength, PetalWdith and species. \n",
    "print(df.columns)"
   ]
  },
  {
   "cell_type": "code",
   "execution_count": 4,
   "metadata": {},
   "outputs": [
    {
     "name": "stdout",
     "output_type": "stream",
     "text": [
      "<class 'pandas.core.frame.DataFrame'>\n",
      "RangeIndex: 150 entries, 0 to 149\n",
      "Data columns (total 6 columns):\n",
      " #   Column       Non-Null Count  Dtype  \n",
      "---  ------       --------------  -----  \n",
      " 0   Id           150 non-null    int64  \n",
      " 1   SepalLength  149 non-null    float64\n",
      " 2   SepalWidth   149 non-null    float64\n",
      " 3   PetalLength  149 non-null    float64\n",
      " 4   PetalWidth   149 non-null    float64\n",
      " 5   species      150 non-null    object \n",
      "dtypes: float64(4), int64(1), object(1)\n",
      "memory usage: 7.2+ KB\n",
      "None\n"
     ]
    }
   ],
   "source": [
    "#columns (SepalLength, SeplalWdith, PetalLength, PetalWdith), each contains one null value.\n",
    "print(df.info())"
   ]
  },
  {
   "cell_type": "code",
   "execution_count": 5,
   "metadata": {},
   "outputs": [
    {
     "name": "stdout",
     "output_type": "stream",
     "text": [
      "<class 'pandas.core.frame.DataFrame'>\n",
      "RangeIndex: 150 entries, 0 to 149\n",
      "Data columns (total 6 columns):\n",
      " #   Column       Non-Null Count  Dtype  \n",
      "---  ------       --------------  -----  \n",
      " 0   Id           150 non-null    int64  \n",
      " 1   SepalLength  149 non-null    float64\n",
      " 2   SepalWidth   149 non-null    float64\n",
      " 3   PetalLength  149 non-null    float64\n",
      " 4   PetalWidth   149 non-null    float64\n",
      " 5   species      150 non-null    object \n",
      "dtypes: float64(4), int64(1), object(1)\n",
      "memory usage: 7.2+ KB\n",
      "None\n"
     ]
    }
   ],
   "source": [
    "#*****************************************#\n",
    "#2. What are the data type of each columns?\n",
    "#*****************************************#\n",
    "\n",
    "#after running below command we can see that; Id is integer datatype,\n",
    "#SepalLength, SeplalWdith, PetalLength, PetalWdith are float datatype and species is object datatype \n",
    "print(df.info())\n"
   ]
  },
  {
   "cell_type": "code",
   "execution_count": 6,
   "metadata": {
    "scrolled": true
   },
   "outputs": [
    {
     "name": "stdout",
     "output_type": "stream",
     "text": [
      "Leghth of columns is 150\n",
      "\n",
      "setosa\n",
      "2\n"
     ]
    }
   ],
   "source": [
    "#**********************************************#\n",
    "#3. What is the length of alpha numeric columns?\n",
    "#**********************************************#\n",
    "\n",
    "#the length of alpha numeric column is the length of the largest alphanumeric value in that column.\n",
    "\n",
    "print(\"Leghth of columns is\",len(df['species']))\n",
    "print(\"\")\n",
    "maxvalue=df['species'].max()\n",
    "print(maxvalue)\n",
    "print(df.species.str.isalnum().sum())\n",
    "\n"
   ]
  },
  {
   "cell_type": "code",
   "execution_count": 7,
   "metadata": {},
   "outputs": [
    {
     "name": "stdout",
     "output_type": "stream",
     "text": [
      "Precision of column Id is: 3 \tvalue=  150\n",
      "\n",
      " ['SepalLength', 'SepalWidth', 'PetalLength', 'PetalWidth']\n",
      "SepalLength : value=  5.1 \n",
      "Precision= 2  Precision value= 5.1 \tScale:  1 \tScale value:  1 \n",
      "\n",
      "SepalWidth : value=  3.5 \n",
      "Precision= 2  Precision value= 3.5 \tScale:  1 \tScale value:  5 \n",
      "\n",
      "PetalLength : value=  3.321 \n",
      "Precision= 4  Precision value= 3.321 \tScale:  3 \tScale value:  321 \n",
      "\n",
      "PetalWidth : value=  0.2 \n",
      "Precision= 2  Precision value= 0.2 \tScale:  1 \tScale value:  2 \n",
      "\n"
     ]
    }
   ],
   "source": [
    "#************************************************#\n",
    "#4. What are precision & scale of numeric columns?\n",
    "#************************************************#\n",
    "#The precision of a numeric is the total count of significant digits in the whole number, that is, the number of \n",
    "#digits to both sides of the decimal point. The scale of a numeric is the count of decimal digits in the fractional part,\n",
    "# to the right of the decimal point. So the number 23.5141 has a precision of 6 and a scale of 4. Integers can be \n",
    "#considered to have a scale of zero.\n",
    "\n",
    "#Since Column 'Id' is of type Integer that is why its considered to have a scale of zero.\n",
    "#and the Precision is:\n",
    "maxid=df['Id'].max()\n",
    "strid=len(str(maxid))\n",
    "print(\"Precision of column Id is:\",strid,\"\\tvalue= \",maxid)\n",
    "\n",
    "#list of other numeric columns:\n",
    "    \n",
    "numcol_list=[]    \n",
    "for numcols in df.columns:\n",
    "    if(numcols=='species' or numcols=='Id'):\n",
    "        continue\n",
    "    else:\n",
    "        numcol_list.append(numcols)\n",
    "print(\"\\n\",numcol_list)        \n",
    "\n",
    "def percision_Scale(col):\n",
    "    prevs=0\n",
    "    currt=0\n",
    "    for b in df[col]:\n",
    "        prevs=currt\n",
    "        currt=len(str(b))\n",
    "        if(currt>prevs):\n",
    "            maxlength=currt\n",
    "            element=str(b) \n",
    "    frac_digits=element.split('.')[1]\n",
    "    print(col, \": value= \",element,\"\\nPrecision=\",maxlength-1,\" Precision value=\",element,\"\\tScale: \",len(frac_digits),\"\\tScale value: \",frac_digits,\"\\n\")\n",
    "            \n",
    "\n",
    "for numcolitem in numcol_list:\n",
    "    percision_Scale(numcolitem)"
   ]
  },
  {
   "cell_type": "code",
   "execution_count": 8,
   "metadata": {},
   "outputs": [],
   "source": [
    "#***********************************#\n",
    "#5. What are the significant columns?\n",
    "#***********************************#\n",
    "\n",
    "#In a dataset significant columns are those which provide important informatiosn on which we can perform \n",
    "#different operations.\n",
    "#In this dataset Id is not a significant column because it doesn't provide relative informations regarging\n",
    "#flowers whereas columns; SepalLength, SepalWidth, PetalLength ,species and PetalWidth are significant columns\n",
    "#because they give relative and usefull information about flowers. for example based on species we\n",
    "#can classify those flowers. \n"
   ]
  },
  {
   "cell_type": "code",
   "execution_count": 9,
   "metadata": {},
   "outputs": [
    {
     "name": "stdout",
     "output_type": "stream",
     "text": [
      "\n",
      " ['SepalLength', 'SepalWidth', 'PetalLength', 'PetalWidth', 'species']\n"
     ]
    }
   ],
   "source": [
    "#**********************************************#\n",
    "# 6. Identify significant columns of the dataset.\n",
    "#**********************************************#\n",
    "sigcol_list=[]    \n",
    "for scols in df.columns:\n",
    "    if(scols!='Id'):\n",
    "        sigcol_list.append(scols)        \n",
    "print(\"\\n\",sigcol_list)        \n"
   ]
  },
  {
   "cell_type": "code",
   "execution_count": 10,
   "metadata": {},
   "outputs": [
    {
     "name": "stdout",
     "output_type": "stream",
     "text": [
      "#*****Number of Zeros*****#\n",
      "Id             0\n",
      "SepalLength    1\n",
      "SepalWidth     1\n",
      "PetalLength    1\n",
      "PetalWidth     1\n",
      "species        0\n",
      "dtype: int64\n",
      "\n",
      "*****sum of Zeros*****\n",
      "Id             0\n",
      "SepalLength    1\n",
      "SepalWidth     1\n",
      "PetalLength    1\n",
      "PetalWidth     1\n",
      "species        0\n",
      "dtype: int64\n"
     ]
    }
   ],
   "source": [
    "#****************************************#\n",
    "# 7. Find out for each significant column\n",
    "# ▪ Number of Null values\n",
    "# ▪ Number of zeros\n",
    "#****************************************#\n",
    "\n",
    "#***** Number of Null value *****#\n",
    "print(\"#*****Number of Zeros*****#\")\n",
    "print(df.isnull().sum())\n",
    "# print(df.any())\n",
    "print(\"\")\n",
    "print(\"*****sum of Zeros*****\")\n",
    "print((df==0).sum())\n"
   ]
  },
  {
   "cell_type": "code",
   "execution_count": 11,
   "metadata": {},
   "outputs": [
    {
     "name": "stdout",
     "output_type": "stream",
     "text": [
      "*** obvious errors ***\n",
      "species\n",
      "IRIS-VERSICOLOR      2\n",
      "Iris-setosa         48\n",
      "Iris-versicolor     48\n",
      "Iris-virginica      48\n",
      "Iris-virginica       2\n",
      "setosa               1\n",
      "Name: SepalLength, dtype: int64\n",
      "\n"
     ]
    }
   ],
   "source": [
    "#******************************#\n",
    "# 8. For each significant column\n",
    "# ▪ Provide the obvious errors\n",
    "#******************************#\n",
    "\n",
    "print(\"*** obvious errors ***\")\n",
    "print(df.groupby(['species'])['SepalLength'].count())\n",
    "print(\"\")"
   ]
  },
  {
   "cell_type": "code",
   "execution_count": 12,
   "metadata": {},
   "outputs": [
    {
     "name": "stdout",
     "output_type": "stream",
     "text": [
      "SepalLength Mean\n",
      "5.8\n",
      "SepalWidth Mean\n",
      "3.0\n",
      "PetalLength Mean\n",
      "3.7\n",
      "SepalWidth Mean\n",
      "3.0\n",
      "***** Checking the values after *****\n",
      "Id             0\n",
      "SepalLength    0\n",
      "SepalWidth     0\n",
      "PetalLength    0\n",
      "PetalWidth     0\n",
      "species        0\n",
      "dtype: int64\n"
     ]
    }
   ],
   "source": [
    "#***********************************************************#\n",
    "# 9. For each numeric column\n",
    "# ▪ Replace null values & zeros with mean value of the column.\n",
    "#***********************************************************#\n",
    "sLength = float(df['SepalLength'].mean().round(decimals=1))\n",
    "print('SepalLength Mean')\n",
    "print(sLength)\n",
    "\n",
    "sWidth = float(df['SepalWidth'].mean().round(decimals=1))\n",
    "print('SepalWidth Mean')\n",
    "print(sWidth)\n",
    "\n",
    "pLength = float(df['PetalLength'].mean().round(decimals=1))\n",
    "print('PetalLength Mean')\n",
    "print(pLength)\n",
    "\n",
    "pWidth = float(df['SepalWidth'].mean().round(decimals=1))\n",
    "print('SepalWidth Mean')\n",
    "print(pWidth)\n",
    "\n",
    "# update\n",
    "df['SepalLength'] = np.where(df['SepalLength'].isnull(), sLength, df['SepalLength'])\n",
    "df['SepalLength'] = df['SepalLength'].astype(float)\n",
    "\n",
    "df['SepalWidth'] = np.where(df['SepalWidth'].isnull(), sWidth, df['SepalWidth'])\n",
    "df['SepalWidth'] = df['SepalWidth'].astype(float)\n",
    "\n",
    "df['PetalLength'] = np.where(df['PetalLength'].isnull(), pLength, df['PetalLength'])\n",
    "df['PetalLength'] = df['PetalLength'].astype(float)\n",
    "\n",
    "df['PetalWidth'] = np.where(df['PetalWidth'].isnull(), pWidth, df['PetalWidth'])\n",
    "df['PetalWidth'] = df['PetalWidth'].astype(float)\n",
    "\n",
    "print(\"***** Checking the values after *****\")\n",
    "print(df.isnull().sum())\n"
   ]
  },
  {
   "cell_type": "code",
   "execution_count": 13,
   "metadata": {},
   "outputs": [
    {
     "data": {
      "text/html": [
       "<div>\n",
       "<style scoped>\n",
       "    .dataframe tbody tr th:only-of-type {\n",
       "        vertical-align: middle;\n",
       "    }\n",
       "\n",
       "    .dataframe tbody tr th {\n",
       "        vertical-align: top;\n",
       "    }\n",
       "\n",
       "    .dataframe thead th {\n",
       "        text-align: right;\n",
       "    }\n",
       "</style>\n",
       "<table border=\"1\" class=\"dataframe\">\n",
       "  <thead>\n",
       "    <tr style=\"text-align: right;\">\n",
       "      <th></th>\n",
       "      <th>Id</th>\n",
       "      <th>SepalLength</th>\n",
       "      <th>SepalWidth</th>\n",
       "      <th>PetalLength</th>\n",
       "      <th>PetalWidth</th>\n",
       "    </tr>\n",
       "  </thead>\n",
       "  <tbody>\n",
       "    <tr>\n",
       "      <th>count</th>\n",
       "      <td>150.000000</td>\n",
       "      <td>150.000000</td>\n",
       "      <td>150.000000</td>\n",
       "      <td>150.000000</td>\n",
       "      <td>150.000000</td>\n",
       "    </tr>\n",
       "    <tr>\n",
       "      <th>mean</th>\n",
       "      <td>75.500000</td>\n",
       "      <td>5.812667</td>\n",
       "      <td>3.026667</td>\n",
       "      <td>3.734140</td>\n",
       "      <td>1.202667</td>\n",
       "    </tr>\n",
       "    <tr>\n",
       "      <th>std</th>\n",
       "      <td>43.445368</td>\n",
       "      <td>0.952799</td>\n",
       "      <td>0.494896</td>\n",
       "      <td>1.769159</td>\n",
       "      <td>0.777964</td>\n",
       "    </tr>\n",
       "    <tr>\n",
       "      <th>min</th>\n",
       "      <td>1.000000</td>\n",
       "      <td>0.000000</td>\n",
       "      <td>0.000000</td>\n",
       "      <td>0.000000</td>\n",
       "      <td>0.000000</td>\n",
       "    </tr>\n",
       "    <tr>\n",
       "      <th>25%</th>\n",
       "      <td>38.250000</td>\n",
       "      <td>5.100000</td>\n",
       "      <td>2.800000</td>\n",
       "      <td>1.600000</td>\n",
       "      <td>0.300000</td>\n",
       "    </tr>\n",
       "    <tr>\n",
       "      <th>50%</th>\n",
       "      <td>75.500000</td>\n",
       "      <td>5.800000</td>\n",
       "      <td>3.000000</td>\n",
       "      <td>4.300000</td>\n",
       "      <td>1.300000</td>\n",
       "    </tr>\n",
       "    <tr>\n",
       "      <th>75%</th>\n",
       "      <td>112.750000</td>\n",
       "      <td>6.400000</td>\n",
       "      <td>3.300000</td>\n",
       "      <td>5.100000</td>\n",
       "      <td>1.800000</td>\n",
       "    </tr>\n",
       "    <tr>\n",
       "      <th>max</th>\n",
       "      <td>150.000000</td>\n",
       "      <td>7.900000</td>\n",
       "      <td>4.400000</td>\n",
       "      <td>6.900000</td>\n",
       "      <td>3.000000</td>\n",
       "    </tr>\n",
       "  </tbody>\n",
       "</table>\n",
       "</div>"
      ],
      "text/plain": [
       "               Id  SepalLength  SepalWidth  PetalLength  PetalWidth\n",
       "count  150.000000   150.000000  150.000000   150.000000  150.000000\n",
       "mean    75.500000     5.812667    3.026667     3.734140    1.202667\n",
       "std     43.445368     0.952799    0.494896     1.769159    0.777964\n",
       "min      1.000000     0.000000    0.000000     0.000000    0.000000\n",
       "25%     38.250000     5.100000    2.800000     1.600000    0.300000\n",
       "50%     75.500000     5.800000    3.000000     4.300000    1.300000\n",
       "75%    112.750000     6.400000    3.300000     5.100000    1.800000\n",
       "max    150.000000     7.900000    4.400000     6.900000    3.000000"
      ]
     },
     "execution_count": 13,
     "metadata": {},
     "output_type": "execute_result"
    }
   ],
   "source": [
    "#***************************************************************#\n",
    "# 10. For each significant column\n",
    "# ▪ Provide the quartile summary along with the count, mean & sum\n",
    "#***************************************************************#\n",
    "df.describe()"
   ]
  },
  {
   "cell_type": "code",
   "execution_count": 14,
   "metadata": {},
   "outputs": [
    {
     "name": "stdout",
     "output_type": "stream",
     "text": [
      "*****range ******\n"
     ]
    },
    {
     "ename": "NameError",
     "evalue": "name 'columns' is not defined",
     "output_type": "error",
     "traceback": [
      "\u001b[1;31m---------------------------------------------------------------------------\u001b[0m",
      "\u001b[1;31mNameError\u001b[0m                                 Traceback (most recent call last)",
      "\u001b[1;32m<ipython-input-14-2d18a7176dcd>\u001b[0m in \u001b[0;36m<module>\u001b[1;34m\u001b[0m\n\u001b[0;32m      4\u001b[0m \u001b[1;31m#**************************************************#\u001b[0m\u001b[1;33m\u001b[0m\u001b[1;33m\u001b[0m\u001b[1;33m\u001b[0m\u001b[0m\n\u001b[0;32m      5\u001b[0m \u001b[0mprint\u001b[0m\u001b[1;33m(\u001b[0m\u001b[1;34m\"*****range ******\"\u001b[0m\u001b[1;33m)\u001b[0m\u001b[1;33m\u001b[0m\u001b[1;33m\u001b[0m\u001b[0m\n\u001b[1;32m----> 6\u001b[1;33m \u001b[0mprint\u001b[0m\u001b[1;33m(\u001b[0m\u001b[0mdf\u001b[0m\u001b[1;33m.\u001b[0m\u001b[0mmin\u001b[0m\u001b[1;33m(\u001b[0m\u001b[1;33m)\u001b[0m\u001b[1;33m-\u001b[0m\u001b[0mcolumns\u001b[0m\u001b[1;33m.\u001b[0m\u001b[0mmax\u001b[0m\u001b[1;33m(\u001b[0m\u001b[1;33m)\u001b[0m\u001b[1;33m)\u001b[0m\u001b[1;33m\u001b[0m\u001b[1;33m\u001b[0m\u001b[0m\n\u001b[0m\u001b[0;32m      7\u001b[0m \u001b[1;33m\u001b[0m\u001b[0m\n\u001b[0;32m      8\u001b[0m \u001b[1;31m#*****************************VARIANCE********************************#\u001b[0m\u001b[1;33m\u001b[0m\u001b[1;33m\u001b[0m\u001b[1;33m\u001b[0m\u001b[0m\n",
      "\u001b[1;31mNameError\u001b[0m: name 'columns' is not defined"
     ]
    }
   ],
   "source": [
    "\n",
    "#**************************************************#\n",
    "#11. For each significant column\n",
    "#▪ Provide the range, variance and standard deviation\n",
    "#**************************************************#\n",
    "print(\"*****range ******\")\n",
    "print(df.min()-columns.max())\n",
    "\n",
    "#*****************************VARIANCE********************************#\n",
    "print(\"*****VARIANCE******\")\n",
    "print(df[['SepalLength','SepalWidth','PetalLength','PetalWidth']].var())\n",
    "\n",
    "#*************************STANDARD DEVIATION****************************#\n",
    "print(\"*****STANDARD DEVIATION******\")\n",
    "print(df[['SepalLength','SepalWidth','PetalLength','PetalWidth']].std())"
   ]
  },
  {
   "cell_type": "code",
   "execution_count": 15,
   "metadata": {},
   "outputs": [
    {
     "name": "stdout",
     "output_type": "stream",
     "text": [
      "\n",
      "*** Outlier Index ***\n",
      "Id \n",
      "[] \n",
      "SepalLength \n",
      "[[5]] \n",
      "SepalWidth \n",
      "[[5]] \n",
      "PetalLength \n",
      "[] \n",
      "PetalWidth \n",
      "[] \n",
      "\n",
      "\n",
      "*** Outlier Values ***\n",
      "Column:  Id\n",
      "[]\n",
      " \n",
      "Column:  SepalLength\n",
      "[0.]\n",
      " \n",
      "Column:  SepalWidth\n",
      "[0.]\n",
      " \n",
      "Column:  PetalLength\n",
      "[]\n",
      " \n",
      "Column:  PetalWidth\n",
      "[]\n",
      " \n",
      "Id \n",
      "[] \n",
      "SepalLength \n",
      "[0.] \n",
      "SepalWidth \n",
      "[0.] \n",
      "PetalLength \n",
      "[] \n",
      "PetalWidth \n",
      "[] \n",
      "\n"
     ]
    }
   ],
   "source": [
    "###############################################\n",
    "#12. For each significant column\n",
    "#▪ Provide the count of outliers and their value\n",
    "###############################################\n",
    "\n",
    "import utils\n",
    "# check outlier index\n",
    "print('\\n*** Outlier Index ***')\n",
    "print(utils.OutlierIndex(df))\n",
    "\n",
    "# check outlier values\n",
    "print('\\n*** Outlier Values ***')\n",
    "print(utils.OutlierValues(df))"
   ]
  },
  {
   "cell_type": "code",
   "execution_count": 16,
   "metadata": {},
   "outputs": [
    {
     "name": "stdout",
     "output_type": "stream",
     "text": [
      "\n",
      "*species*\n",
      "species\n",
      "IRIS-VERSICOLOR      2\n",
      "Iris-setosa         48\n",
      "Iris-versicolor     48\n",
      "Iris-virginica      48\n",
      "Iris-virginica       2\n",
      "setosa               2\n",
      "dtype: int64\n",
      "\n"
     ]
    }
   ],
   "source": [
    "#**********************************************************#\n",
    "#13. Are there any class variables? If yes,\n",
    "#▪ provide frequency distribution table & chart for the same\n",
    "#**********************************************************#\n",
    "import warnings\n",
    "warnings.filterwarnings('ignore')\n",
    "\n",
    "# create list of class variable manually\n",
    "colNames = df[['species']]\n",
    "\n",
    "for colName in colNames:\n",
    "    print(\"\\n*\"+colName+\"*\")\n",
    "    print(df.groupby(colName).size())\n",
    "    print(\"\")"
   ]
  },
  {
   "cell_type": "code",
   "execution_count": 17,
   "metadata": {},
   "outputs": [
    {
     "data": {
      "image/png": "[encoded data removed]",
      "text/plain": [
       "<Figure size 432x288 with 1 Axes>"
      ]
     },
     "metadata": {
      "needs_background": "light"
     },
     "output_type": "display_data"
    }
   ],
   "source": [
    "#Chart of Distribution table\n",
    "plt.figure()\n",
    "plt.suptitle(\"Chart of distribution table\")\n",
    "ax = sns.countplot(df[colName],label=\"Count\")\n",
    "ax.set_xticklabels(ax.get_xticklabels(), rotation=45, ha=\"right\")\n",
    "plt.tight_layout()\n",
    "plt.grid()\n",
    "plt.show()"
   ]
  },
  {
   "cell_type": "code",
   "execution_count": 18,
   "metadata": {},
   "outputs": [
    {
     "data": {
      "image/png": "[encoded data removed]",
      "text/plain": [
       "<Figure size 432x288 with 1 Axes>"
      ]
     },
     "metadata": {
      "needs_background": "light"
     },
     "output_type": "display_data"
    }
   ],
   "source": [
    "#****************************#\n",
    "#14. For all numeric columns\n",
    "#▪ Provide histogram\n",
    "#****************************#\n",
    "columns = df[['SepalLength','SepalWidth','PetalLength','PetalWidth']]\n",
    "plt.figure()\n",
    "plt.suptitle('Histogram of numberic columns')\n",
    "sns.histplot(data=columns,kde=False)\n",
    "plt.grid()\n",
    "plt.show()"
   ]
  },
  {
   "cell_type": "code",
   "execution_count": 19,
   "metadata": {},
   "outputs": [
    {
     "data": {
      "image/png": "[encoded data removed]",
      "text/plain": [
       "<Figure size 720x360 with 1 Axes>"
      ]
     },
     "metadata": {
      "needs_background": "light"
     },
     "output_type": "display_data"
    }
   ],
   "source": [
    "##############################\n",
    "#15. For all numeric variables\n",
    "#▪ Provide box & whisker plot\n",
    "##############################\n",
    "\n",
    "columns = df[['SepalLength','SepalWidth','PetalLength','PetalWidth']]\n",
    "\n",
    "# quan = columns.quantile(0.95)\n",
    "# maxim = df[columns >quan]\n",
    "# maxim.sum()\n",
    "plt.figure(figsize=(10,5))\n",
    "plt.suptitle('Box & Whisker Plot')\n",
    "sns.boxplot(data=columns)\n",
    "plt.grid()\n",
    "plt.show()"
   ]
  },
  {
   "cell_type": "code",
   "execution_count": 20,
   "metadata": {},
   "outputs": [
    {
     "data": {
      "image/png": "[encoded data removed]",
      "text/plain": [
       "<Figure size 720x360 with 2 Axes>"
      ]
     },
     "metadata": {
      "needs_background": "light"
     },
     "output_type": "display_data"
    }
   ],
   "source": [
    "#*******************************#\n",
    "#16 For all numeric variables\n",
    "#▪ Provide correlation table & graph\n",
    "#***********************************#\n",
    "df.corr()\n",
    "plt.figure(figsize=(10,5))\n",
    "plt.title('Heat Map of correlation')\n",
    "ax = sns.heatmap(df.corr(), annot=True, cmap=\"YlGnBu\")\n",
    "plt.show()"
   ]
  },
  {
   "cell_type": "code",
   "execution_count": 21,
   "metadata": {
    "scrolled": true
   },
   "outputs": [
    {
     "name": "stdout",
     "output_type": "stream",
     "text": [
      "\n",
      "*** Correlation Table ***\n",
      "                   Id  SepalLength  SepalWidth  PetalLength  PetalWidth\n",
      "Id           1.000000     0.680396   -0.262327     0.879761    0.894334\n",
      "SepalLength  0.680396     1.000000    0.173776     0.781153    0.736881\n",
      "SepalWidth  -0.262327     0.173776    1.000000    -0.326692   -0.255910\n",
      "PetalLength  0.879761     0.781153   -0.326692     1.000000    0.945665\n",
      "PetalWidth   0.894334     0.736881   -0.255910     0.945665    1.000000\n"
     ]
    }
   ],
   "source": [
    "print(\"\\n*** Correlation Table ***\")\n",
    "print(df.corr())"
   ]
  },
  {
   "cell_type": "code",
   "execution_count": 22,
   "metadata": {},
   "outputs": [
    {
     "data": {
      "image/png": "[encoded data removed]",
      "text/plain": [
       "<Figure size 1152x432 with 2 Axes>"
      ]
     },
     "metadata": {
      "needs_background": "light"
     },
     "output_type": "display_data"
    },
    {
     "data": {
      "text/plain": [
       "<Figure size 576x360 with 0 Axes>"
      ]
     },
     "metadata": {},
     "output_type": "display_data"
    }
   ],
   "source": [
    "#***************************************#\n",
    "# 17. Based on the correlation table\n",
    "# ▪ Provide scatter plot relevant columns\n",
    "#***************************************#\n",
    "\n",
    "#sns.pairplot(data=df,hue='species')\n",
    "fig, (ax1,ax2) = plt.subplots(1,2, figsize=(16,6))\n",
    "plt.figure(figsize=(8,5))\n",
    "plt.suptitle('Scatter plot of relevent columns')\n",
    "\n",
    "ax1.set_title('Sepal Length vs Width')\n",
    "sns.scatterplot(x='SepalLength',y='PetalLength',hue='species',data=df,ax=ax1)\n",
    "\n",
    "ax2.set_title('Petal Length  vs Width')\n",
    "sns.scatterplot(x='SepalWidth',y='PetalWidth',hue='species',data=df,ax=ax2)\n",
    "\n",
    "plt.show()"
   ]
  },
  {
   "cell_type": "code",
   "execution_count": 23,
   "metadata": {
    "scrolled": true
   },
   "outputs": [
    {
     "name": "stdout",
     "output_type": "stream",
     "text": [
      "Ho: mu = 6.25\n",
      "Ha: mu != 6.25\n",
      "al: 0.06\n",
      "mu: 6.25\n",
      "\n",
      "*** Testing Results ***\n",
      "\n",
      "t-stat -5.62156358518791\n",
      "p-vals 9.057846883294415e-08\n",
      "1t pv 1.811569376658883e-07\n",
      "2t pv 9.057846883294415e-08\n",
      "Null Hypothesis: Rejected\n",
      "Conclusion: mu != 6.25\n"
     ]
    }
   ],
   "source": [
    "\n",
    "\n",
    "#**********************************************************************#\n",
    "# 18. Use relevant statistical test to check if population mean value of \n",
    "#SepalLength is significantly different from 6.25. Use 0.06 as α(alpha)\n",
    "#**********************************************************************#\n",
    "\n",
    "##############################################################\n",
    "# Hypothesis Test\n",
    "##############################################################\n",
    "\n",
    "# Problem: Check if the population mean value of sepallength is significantly differnt from 6.25.\n",
    "\n",
    "#Ho:\tm = 6.25\n",
    "#Ha:\tm != 6.25\n",
    "#Tail: Two\n",
    "#a is 0.06\n",
    "\n",
    "# null hyp\n",
    "Ho = \"mu = 6.25\"\n",
    "# alt hyp\n",
    "Ha = \"mu != 6.25\"\n",
    "# alpha\n",
    "al = 0.06\n",
    "# mu - mean\n",
    "mu = 6.25\n",
    "# tail type\n",
    "tt = 2\n",
    "# data\n",
    "SepalLength = df['SepalLength'].values\n",
    "# print\n",
    "print(\"Ho:\", Ho)\n",
    "print(\"Ha:\", Ha)\n",
    "print(\"al:\", al)\n",
    "print(\"mu:\", mu)\n",
    "\n",
    "print(\"\")\n",
    "print(\"*** Testing Results ***\")\n",
    "print(\"\")\n",
    "\n",
    "ts, pv = ttest_1samp(SepalLength, mu)\n",
    "print(\"t-stat\",ts)\n",
    "print(\"p-vals\",pv)\n",
    "t2pv = pv\n",
    "t1pv = pv*2\n",
    "print(\"1t pv\",t1pv)\n",
    "print(\"2t pv\",t2pv)\n",
    "\n",
    "if tt == 1:\n",
    "    if t1pv < al:\n",
    "        print(\"Null Hypothesis: Rejected\")\n",
    "        print(\"Conclusion:\",Ha)\n",
    "    else:\n",
    "        print(\"Null Hypothesis: Not Rejected\")\n",
    "        print(\"Conclusion:\",Ho)\n",
    "else:\n",
    "    if t2pv < al/2:\n",
    "        print(\"Null Hypothesis: Rejected\")\n",
    "        print(\"Conclusion:\",Ha)\n",
    "    else:\n",
    "        print(\"Null Hypothesis: Not Rejected\")\n",
    "        print(\"Conclusion:\",Ho)\n"
   ]
  },
  {
   "cell_type": "code",
   "execution_count": 24,
   "metadata": {},
   "outputs": [
    {
     "name": "stdout",
     "output_type": "stream",
     "text": [
      "Ho: mu <= 1.5\n",
      "Ha: mu > 1.5\n",
      "al: 0.06\n",
      "mu: 1.5\n",
      "\n",
      "*** Testing Results ***\n",
      "\n",
      "t-stat -4.680904884305198\n",
      "p-vals 6.3672982690451405e-06\n",
      "1t pv 1.2734596538090281e-05\n",
      "2t pv 6.3672982690451405e-06\n",
      "Null Hypothesis: Rejected\n",
      "Conclusion: mu > 1.5\n"
     ]
    }
   ],
   "source": [
    "#********************************************************************************************************#\n",
    "#19. Use relevant statistical test to check if the population mean value of PetalWidth is no more than 1.5.\n",
    "#********************************************************************************************************#\n",
    "\n",
    "\n",
    "##############################################################\n",
    "# Hypothesis Test\n",
    "##############################################################\n",
    "\n",
    "# Problem: Check if the population mean age is PetalWidth more than 1.5\n",
    "\n",
    "#Ho:\tm <= 1.5\n",
    "#Ha:\tm > 1.5\n",
    "#Tail: One\n",
    "#Test: One Sample Mean without std\n",
    "\n",
    "from scipy.stats import ttest_1samp\n",
    "\n",
    "\n",
    "# null hyp\n",
    "Ho = \"mu <= 1.5\"\n",
    "# alt hyp\n",
    "Ha = \"mu > 1.5\"\n",
    "# alpha\n",
    "al = 0.06\n",
    "# mu - mean\n",
    "mu = 1.5\n",
    "# tail type\n",
    "tt = 1\n",
    "# data\n",
    "PetalWidth = df['PetalWidth'].values\n",
    "# print\n",
    "print(\"Ho:\", Ho)\n",
    "print(\"Ha:\", Ha)\n",
    "print(\"al:\", al)\n",
    "print(\"mu:\", mu)\n",
    "\n",
    "print(\"\")\n",
    "print(\"*** Testing Results ***\")\n",
    "print(\"\")\n",
    "\n",
    "ts, pv = ttest_1samp(PetalWidth, mu)\n",
    "print(\"t-stat\",ts)\n",
    "print(\"p-vals\",pv)\n",
    "t2pv = pv\n",
    "t1pv = pv*2\n",
    "print(\"1t pv\",t1pv)\n",
    "print(\"2t pv\",t2pv)\n",
    "\n",
    "if tt == 1:\n",
    "    if t1pv < al:\n",
    "        print(\"Null Hypothesis: Rejected\")\n",
    "        print(\"Conclusion:\",Ha)\n",
    "    else:\n",
    "        print(\"Null Hypothesis: Not Rejected\")\n",
    "        print(\"Conclusion:\",Ho)\n",
    "else:\n",
    "    if t2pv < al/2:\n",
    "        print(\"Null Hypothesis: Rejected\")\n",
    "        print(\"Conclusion:\",Ha)\n",
    "    else:\n",
    "        print(\"Null Hypothesis: Not Rejected\")\n",
    "        print(\"Conclusion:\",Ho)"
   ]
  },
  {
   "cell_type": "code",
   "execution_count": null,
   "metadata": {},
   "outputs": [],
   "source": [
    "\n",
    "#***********$$$$$$$$******REPORT*******$$$$$$$$$****************#\n",
    "\n",
    "# import pandas_profiling as pp\n",
    "# profile = pp.ProfileReport(df) \n",
    "# profile.to_file(\"report2.html\")"
   ]
  },
  {
   "cell_type": "code",
   "execution_count": null,
   "metadata": {},
   "outputs": [],
   "source": [
    "#*************** Exploratory Data Analysis *******************#\n",
    "\"\"\" \n",
    "                    OVERVIEW\n",
    "                    \n",
    "                #Reproduction\n",
    "\n",
    "Analysis started\t2020-12-14-20 16:17:29.249705\n",
    "Analysis finished\t2020-12-20 16:17:36.200341\n",
    "Duration\t        7 Days\n",
    "python packages \t Pandas,Numpy,Matplotlib,Seaborn,Scipy\n",
    "IDE \t             Spyder , Jupyter Notebook\n",
    "\n",
    "\n",
    "               #Dataset statistics\n",
    "\n",
    "Number of variables\t                 6\n",
    "Number of observations\t             150\n",
    "Missing cells\t                     4\n",
    "Missing cells (%)\t                 0.4%\n",
    "Duplicate rows\t                     0\n",
    "Duplicate rows (%)\t                 0.0%\n",
    "Total size in memory\t             7.2 KiB\n",
    "Average record size in memory\t     48.9 B\n",
    "\n",
    "                    #VARIABLE TYPE\n",
    "                    \n",
    "Numerical\t           0 to 7.9  \n",
    "Categorical \t       4 (Iris-setosa, setosa ,Iris-versicolor, Iris-virginica)\n",
    "\n",
    "                    #VARIABLE\n",
    "                    \n",
    "                    SepalWidth  PetalLength PetalWidth species\n",
    "    Distinct\t     36             45          23         6\n",
    "    Missing\t1\t     1              1           1          0\n",
    "    Mean\t         5.8            3.7         1.1\n",
    "    Minimum\t         0              0           0\n",
    "    Maximum\t         7.9            6.9         2.5\n",
    "    Zeros\t         1              1           1\n",
    "\n",
    "    1.SepalWidth\n",
    "    Distinct\t36\n",
    "    Missing\t1\n",
    "    Mean\t5.812751678\n",
    "    Minimum\t0\n",
    "    Maximum\t7.9\n",
    "    Zeros\t1\n",
    " \n",
    "    \n",
    "    2.SepalWidth\n",
    "    Distinct\t24\n",
    "    Missing\t1\n",
    "    Mean\t3.026845638\n",
    "    Minimum\t0\n",
    "    Maximum\t4.4\n",
    "    Zeros\t1\n",
    "    \n",
    "    3.PetalLength\n",
    "    Distinct\t45\n",
    "    Missing\t1\n",
    "    Mean\t3.734369128\n",
    "    Minimum\t0\n",
    "    Maximum\t6.9\n",
    "    Zeros\t1\n",
    "    \n",
    "    4.PetalWidth\n",
    "    Distinct\t23\n",
    "    Missing\t1\n",
    "    Mean\t1.190604027\n",
    "    Minimum\t0\n",
    "    Maximum\t2.5\n",
    "    Zeros\t1\n",
    "    \n",
    "    5.species\n",
    "    Distinct\t6\n",
    "    Missing\t0\n",
    "    \n",
    "    \n",
    "        \n",
    "    #Visualization:\n",
    "      Distributaion Table :It is indicating that how our data is distributed.\n",
    "    \n",
    "      Box & Whisker Plot: Here we notice that we have 3 out liers in our dataset.\n",
    "      \n",
    "    #Co-relation:\n",
    "        With the help o heat map we observe that the column PetalLength & PetalWidth are Highly Co-related to each other\n",
    "      \n",
    "    \n",
    "    ***Conclusion:***\n",
    "      Here in EDA we use Hypothesis testing for testing and getting final.\n",
    "      Where our population mean value of sepallength is not equal to 6.25.\n",
    "      In other hand we done testing on population mean age is PetalWidth were we find the mean is greater then 1.5\n",
    "      \n",
    "\n",
    "\"\"\""
   ]
  },
  {
   "cell_type": "code",
   "execution_count": null,
   "metadata": {},
   "outputs": [],
   "source": []
  }
 ],
 "metadata": {
  "kernelspec": {
   "display_name": "Python 3",
   "language": "python",
   "name": "python3"
  },
  "language_info": {
   "codemirror_mode": {
    "name": "ipython",
    "version": 3
   },
   "file_extension": ".py",
   "mimetype": "text/x-python",
   "name": "python",
   "nbconvert_exporter": "python",
   "pygments_lexer": "ipython3",
   "version": "3.8.6"
  }
 },
 "nbformat": 4,
 "nbformat_minor": 4
}
